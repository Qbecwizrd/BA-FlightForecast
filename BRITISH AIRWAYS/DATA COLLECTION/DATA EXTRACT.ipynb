{
 "cells": [
  {
   "cell_type": "code",
   "execution_count": 1,
   "id": "ab81d967",
   "metadata": {},
   "outputs": [],
   "source": [
    "import matplotlib.pyplot as plt\n",
    "import seaborn as sns\n",
    "import re\n",
    "import os\n",
    "import pandas as pd"
   ]
  },
  {
   "cell_type": "code",
   "execution_count": 2,
   "id": "b61973a2",
   "metadata": {},
   "outputs": [],
   "source": [
    "cwd=os.getcwd()\n",
    "df=pd.read_csv(cwd+\"/BA_reviews.csv\",index_col=0)\n"
   ]
  },
  {
   "cell_type": "code",
   "execution_count": 3,
   "id": "b56f6b92",
   "metadata": {},
   "outputs": [
    {
     "data": {
      "text/html": [
       "<div>\n",
       "<style scoped>\n",
       "    .dataframe tbody tr th:only-of-type {\n",
       "        vertical-align: middle;\n",
       "    }\n",
       "\n",
       "    .dataframe tbody tr th {\n",
       "        vertical-align: top;\n",
       "    }\n",
       "\n",
       "    .dataframe thead th {\n",
       "        text-align: right;\n",
       "    }\n",
       "</style>\n",
       "<table border=\"1\" class=\"dataframe\">\n",
       "  <thead>\n",
       "    <tr style=\"text-align: right;\">\n",
       "      <th></th>\n",
       "      <th>reviews</th>\n",
       "      <th>stars</th>\n",
       "      <th>date</th>\n",
       "      <th>country</th>\n",
       "    </tr>\n",
       "  </thead>\n",
       "  <tbody>\n",
       "    <tr>\n",
       "      <th>0</th>\n",
       "      <td>✅ Trip Verified | On the memorable day of Janu...</td>\n",
       "      <td>5.0</td>\n",
       "      <td>6th February 2024</td>\n",
       "      <td>Nigeria</td>\n",
       "    </tr>\n",
       "    <tr>\n",
       "      <th>1</th>\n",
       "      <td>Not Verified | I did not actually get to fly w...</td>\n",
       "      <td>8.0</td>\n",
       "      <td>5th February 2024</td>\n",
       "      <td>United Kingdom</td>\n",
       "    </tr>\n",
       "    <tr>\n",
       "      <th>2</th>\n",
       "      <td>✅ Trip Verified | We had possibly the worse ch...</td>\n",
       "      <td>1.0</td>\n",
       "      <td>2nd February 2024</td>\n",
       "      <td>United Kingdom</td>\n",
       "    </tr>\n",
       "    <tr>\n",
       "      <th>3</th>\n",
       "      <td>✅ Trip Verified |  I flew to LHR from ATH in C...</td>\n",
       "      <td>6.0</td>\n",
       "      <td>30th January 2024</td>\n",
       "      <td>Japan</td>\n",
       "    </tr>\n",
       "    <tr>\n",
       "      <th>4</th>\n",
       "      <td>✅ Trip Verified |  I like the British Airways ...</td>\n",
       "      <td>9.0</td>\n",
       "      <td>29th January 2024</td>\n",
       "      <td>United Kingdom</td>\n",
       "    </tr>\n",
       "  </tbody>\n",
       "</table>\n",
       "</div>"
      ],
      "text/plain": [
       "                                             reviews  stars  \\\n",
       "0  ✅ Trip Verified | On the memorable day of Janu...    5.0   \n",
       "1  Not Verified | I did not actually get to fly w...    8.0   \n",
       "2  ✅ Trip Verified | We had possibly the worse ch...    1.0   \n",
       "3  ✅ Trip Verified |  I flew to LHR from ATH in C...    6.0   \n",
       "4  ✅ Trip Verified |  I like the British Airways ...    9.0   \n",
       "\n",
       "                date         country  \n",
       "0  6th February 2024         Nigeria  \n",
       "1  5th February 2024  United Kingdom  \n",
       "2  2nd February 2024  United Kingdom  \n",
       "3  30th January 2024           Japan  \n",
       "4  29th January 2024  United Kingdom  "
      ]
     },
     "execution_count": 3,
     "metadata": {},
     "output_type": "execute_result"
    }
   ],
   "source": [
    "df.head()"
   ]
  },
  {
   "cell_type": "code",
   "execution_count": 4,
   "id": "a44c2762",
   "metadata": {},
   "outputs": [],
   "source": [
    "df['verified']=df.reviews.str.contains('Trip Verified')"
   ]
  },
  {
   "cell_type": "code",
   "execution_count": 5,
   "id": "ea718acf",
   "metadata": {},
   "outputs": [],
   "source": [
    "from nltk.stem import WordNetLemmatizer\n",
    "import nltk\n",
    "from nltk.corpus import stopwords\n",
    "lemma=WordNetLemmatizer()\n",
    "reviews_data=df.reviews.str.strip(\"✅ Trip Verified |\")\n",
    "corpus=[]\n",
    "for rev in reviews_data:\n",
    "    rev = re.sub('[^a-zA-Z]',' ', rev)\n",
    "    rev = rev.lower()\n",
    "    rev = rev.split()\n",
    "    rev = [lemma.lemmatize(word) for word in rev if word not in set(stopwords.words(\"english\"))]\n",
    "    rev = \" \".join(rev)\n",
    "    corpus.append(rev)\n",
    "df['corpus']=corpus\n",
    "df.head()\n",
    "df.dtypes\n",
    "df['date'] = pd.to_datetime(df['date'], format=\"%dth %B %Y\", errors='coerce')\n",
    "df=df.dropna()\n",
    "df.stars.unique()\n",
    "df.loc[:,'stars']=df['stars'].astype(int)\n",
    "df.stars.value_counts()\n",
    "df.isnull().value_counts()\n",
    "df.shape\n",
    "df.reset_index(drop=True)\n",
    "df.to_csv(cwd+'/cleaned-BA-reviews.csv')\n"
   ]
  },
  {
   "cell_type": "code",
   "execution_count": null,
   "id": "2c4bf27c",
   "metadata": {},
   "outputs": [],
   "source": []
  }
 ],
 "metadata": {
  "kernelspec": {
   "display_name": "Python 3 (ipykernel)",
   "language": "python",
   "name": "python3"
  },
  "language_info": {
   "codemirror_mode": {
    "name": "ipython",
    "version": 3
   },
   "file_extension": ".py",
   "mimetype": "text/x-python",
   "name": "python",
   "nbconvert_exporter": "python",
   "pygments_lexer": "ipython3",
   "version": "3.11.5"
  }
 },
 "nbformat": 4,
 "nbformat_minor": 5
}
