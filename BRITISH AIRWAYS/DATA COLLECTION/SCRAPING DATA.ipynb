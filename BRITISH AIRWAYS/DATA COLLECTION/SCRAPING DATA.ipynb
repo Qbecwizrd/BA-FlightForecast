{
 "cells": [
  {
   "cell_type": "markdown",
   "id": "fc69e495",
   "metadata": {},
   "source": [
    "# TASK 1"
   ]
  },
  {
   "cell_type": "markdown",
   "id": "cfeccec6",
   "metadata": {},
   "source": [
    "# Scraping of data\n"
   ]
  },
  {
   "cell_type": "code",
   "execution_count": 1,
   "id": "a96d499d",
   "metadata": {},
   "outputs": [],
   "source": [
    "import requests"
   ]
  },
  {
   "cell_type": "code",
   "execution_count": 2,
   "id": "50b9a29f",
   "metadata": {},
   "outputs": [],
   "source": [
    "from bs4 import BeautifulSoup\n",
    "import pandas as pd"
   ]
  },
  {
   "cell_type": "code",
   "execution_count": 3,
   "id": "40ef7a9c",
   "metadata": {},
   "outputs": [],
   "source": [
    "base_url='https://www.airlinequality.com/airline-reviews/british-airways'\n",
    "pages=10\n",
    "page_size=100\n"
   ]
  },
  {
   "cell_type": "code",
   "execution_count": 4,
   "id": "7112d8b0",
   "metadata": {},
   "outputs": [
    {
     "name": "stdout",
     "output_type": "stream",
     "text": [
      "Scraping page 1\n",
      "Scraping page 1\n",
      "   ---> 100 total reviews\n",
      "Scraping page 2\n",
      "   ---> 100 total reviews\n",
      "Scraping page 2\n",
      "   ---> 200 total reviews\n",
      "Scraping page 3\n",
      "   ---> 200 total reviews\n",
      "Scraping page 3\n",
      "   ---> 300 total reviews\n",
      "Scraping page 4\n",
      "   ---> 300 total reviews\n",
      "Scraping page 4\n",
      "   ---> 400 total reviews\n",
      "Scraping page 5\n",
      "   ---> 400 total reviews\n",
      "Scraping page 5\n",
      "   ---> 500 total reviews\n",
      "Scraping page 6\n",
      "   ---> 500 total reviews\n",
      "Scraping page 6\n",
      "   ---> 600 total reviews\n",
      "Scraping page 7\n",
      "   ---> 600 total reviews\n",
      "Scraping page 7\n",
      "   ---> 700 total reviews\n",
      "Scraping page 8\n",
      "   ---> 700 total reviews\n",
      "Scraping page 8\n",
      "   ---> 800 total reviews\n",
      "Scraping page 9\n",
      "   ---> 800 total reviews\n",
      "Scraping page 9\n",
      "   ---> 900 total reviews\n",
      "Scraping page 10\n",
      "   ---> 900 total reviews\n",
      "Scraping page 10\n",
      "   ---> 1000 total reviews\n",
      "   ---> 1000 total reviews\n"
     ]
    }
   ],
   "source": [
    "base_url = \"https://www.airlinequality.com/airline-reviews/british-airways\"\n",
    "pages = 10\n",
    "page_size = 100\n",
    "\n",
    "reviews = []\n",
    "\n",
    "# for i in range(1, pages + 1):\n",
    "for i in range(1, pages + 1):\n",
    "\n",
    "    print(f\"Scraping page {i}\")\n",
    "\n",
    "    # Create URL to collect links from paginated data\n",
    "    url = f\"{base_url}/page/{i}/?sortby=post_date%3ADesc&pagesize={page_size}\"\n",
    "\n",
    "    # Collect HTML data from this page\n",
    "    response = requests.get(url)\n",
    "\n",
    "    # Parse content\n",
    "    content = response.content\n",
    "    parsed_content = BeautifulSoup(content, 'html.parser')\n",
    "    for para in parsed_content.find_all(\"div\", {\"class\": \"text_content\"}):\n",
    "        reviews.append(para.get_text())\n",
    "    \n",
    "    print(f\"   ---> {len(reviews)} total reviews\")"
   ]
  },
  {
   "cell_type": "code",
   "execution_count": null,
   "id": "25aa08f4",
   "metadata": {},
   "outputs": [],
   "source": [
    "df=pd.DataFrame()\n",
    "df['reviews']=reviews\n",
    "df.head()"
   ]
  },
  {
   "cell_type": "code",
   "execution_count": null,
   "id": "5f46059f",
   "metadata": {},
   "outputs": [],
   "source": [
    "import os\n",
    "data_directory='data'\n",
    "os.makedirs(data_directory,exist_ok=True)\n",
    "df.to_csv(os.path.join(data_directory, \"BA_reviews.csv\"), index=False)"
   ]
  },
  {
   "cell_type": "markdown",
   "id": "805b08a3",
   "metadata": {},
   "source": [
    "# DATA COLLECTION\n"
   ]
  },
  {
   "cell_type": "code",
   "execution_count": null,
   "id": "5cbeeae4",
   "metadata": {},
   "outputs": [],
   "source": [
    "import pandas as pd\n",
    "import numpy as np\n"
   ]
  },
  {
   "cell_type": "code",
   "execution_count": null,
   "id": "bc7877b0",
   "metadata": {},
   "outputs": [],
   "source": [
    "reviews=[]\n",
    "stars=[]\n",
    "date=[]\n",
    "country=[]\n"
   ]
  },
  {
   "cell_type": "code",
   "execution_count": null,
   "id": "769184f2",
   "metadata": {},
   "outputs": [],
   "source": [
    "!pip install lxml\n"
   ]
  },
  {
   "cell_type": "code",
   "execution_count": null,
   "id": "0e07fb82",
   "metadata": {},
   "outputs": [],
   "source": [
    "for i in range(1, 36):\n",
    "    page = requests.get(f\"https://www.airlinequality.com/airline-reviews/british-airways/page/{i}/?sortby=post_date%3ADesc&pagesize=100\")\n",
    "    \n",
    "    soup = BeautifulSoup(page.content, \"lxml\")\n",
    "    \n",
    "    for item in soup.find_all(\"div\", class_=\"text_content\"):\n",
    "        reviews.append(item.text)\n",
    "    \n",
    "    for item in soup.find_all(\"div\", class_ = \"rating-10\"):\n",
    "        try:\n",
    "            stars.append(item.span.text)\n",
    "        except:\n",
    "            print(f\"Error on page {i}\")\n",
    "            stars.append(\"None\")\n",
    "            \n",
    "    #date\n",
    "    for item in soup.find_all(\"time\"):\n",
    "        date.append(item.text)\n",
    "        \n",
    "    #country\n",
    "    for item in soup.find_all(\"h3\"):\n",
    "        country.append(item.span.next_sibling.text.strip(\" ()\"))"
   ]
  },
  {
   "cell_type": "code",
   "execution_count": null,
   "id": "abfea2f7",
   "metadata": {},
   "outputs": [],
   "source": [
    "stars1=stars[0:3500]\n",
    "print(len(reviews), len(stars1), len(date), len(country))"
   ]
  },
  {
   "cell_type": "code",
   "execution_count": null,
   "id": "fb08928b",
   "metadata": {},
   "outputs": [],
   "source": [
    "reviews"
   ]
  },
  {
   "cell_type": "code",
   "execution_count": null,
   "id": "c308f1c2",
   "metadata": {},
   "outputs": [],
   "source": [
    "df=pd.DataFrame({\"reviews\":reviews,\"stars\":stars1,\"date\":date,\"country\":country})"
   ]
  },
  {
   "cell_type": "code",
   "execution_count": null,
   "id": "c03cc5ac",
   "metadata": {},
   "outputs": [],
   "source": [
    "df"
   ]
  },
  {
   "cell_type": "code",
   "execution_count": null,
   "id": "d33df185",
   "metadata": {},
   "outputs": [],
   "source": [
    "import os"
   ]
  },
  {
   "cell_type": "code",
   "execution_count": null,
   "id": "ae168990",
   "metadata": {},
   "outputs": [],
   "source": [
    "cwd=os.getcwd()"
   ]
  },
  {
   "cell_type": "code",
   "execution_count": null,
   "id": "cc52ed35",
   "metadata": {},
   "outputs": [],
   "source": [
    "df.to_csv(cwd+ \"/BA_reviews.csv\")"
   ]
  },
  {
   "cell_type": "markdown",
   "id": "373b6af4",
   "metadata": {},
   "source": [
    "# DATA CLEANING\n"
   ]
  },
  {
   "cell_type": "code",
   "execution_count": null,
   "id": "0afcdfd6",
   "metadata": {},
   "outputs": [],
   "source": [
    "import matplotlib.pyplot as plt\n",
    "import seaborn as sns\n",
    "import re"
   ]
  },
  {
   "cell_type": "code",
   "execution_count": null,
   "id": "6bb94de8",
   "metadata": {},
   "outputs": [],
   "source": [
    "cwd=os.getcwd()\n",
    "df=pd.read_csv(cwd+\"/BA_reviews.csv\",index_col=0)\n"
   ]
  },
  {
   "cell_type": "code",
   "execution_count": null,
   "id": "36dbc27f",
   "metadata": {},
   "outputs": [],
   "source": [
    "df.head()"
   ]
  },
  {
   "cell_type": "code",
   "execution_count": null,
   "id": "b9f462ad",
   "metadata": {},
   "outputs": [],
   "source": [
    "df['verified']=df.reviews.str.contains('Trip Verified')"
   ]
  },
  {
   "cell_type": "code",
   "execution_count": null,
   "id": "56eba2ad",
   "metadata": {},
   "outputs": [],
   "source": [
    "df"
   ]
  },
  {
   "cell_type": "code",
   "execution_count": null,
   "id": "82ee055c",
   "metadata": {},
   "outputs": [],
   "source": [
    "from nltk.stem import WordNetLemmatizer"
   ]
  },
  {
   "cell_type": "code",
   "execution_count": null,
   "id": "d6acfca8",
   "metadata": {},
   "outputs": [],
   "source": [
    "import nltk\n",
    "nltk.download('stopwords')\n",
    "nltk.download('wordnet')"
   ]
  },
  {
   "cell_type": "code",
   "execution_count": null,
   "id": "9deda55e",
   "metadata": {},
   "outputs": [],
   "source": [
    "from nltk.corpus import stopwords\n",
    "lemma=WordNetLemmatizer()\n",
    "reviews_data=df.reviews.str.strip(\"✅ Trip Verified |\")\n",
    "corpus=[]\n",
    "for rev in reviews_data:\n",
    "    rev = re.sub('[^a-zA-Z]',' ', rev)\n",
    "    rev = rev.lower()\n",
    "    rev = rev.split()\n",
    "    rev = [lemma.lemmatize(word) for word in rev if word not in set(stopwords.words(\"english\"))]\n",
    "    rev = \" \".join(rev)\n",
    "    corpus.append(rev)"
   ]
  },
  {
   "cell_type": "code",
   "execution_count": null,
   "id": "d988a655",
   "metadata": {},
   "outputs": [],
   "source": [
    "df['corpus']=corpus"
   ]
  },
  {
   "cell_type": "code",
   "execution_count": null,
   "id": "c6c0079f",
   "metadata": {},
   "outputs": [],
   "source": [
    "df.head()"
   ]
  },
  {
   "cell_type": "code",
   "execution_count": null,
   "id": "67b01dff",
   "metadata": {},
   "outputs": [],
   "source": [
    "df.dtypes"
   ]
  },
  {
   "cell_type": "code",
   "execution_count": null,
   "id": "84d770f2",
   "metadata": {},
   "outputs": [],
   "source": [
    "df['date'] = pd.to_datetime(df['date'], format=\"%dth %B %Y\", errors='coerce')"
   ]
  },
  {
   "cell_type": "code",
   "execution_count": null,
   "id": "c7918c48",
   "metadata": {},
   "outputs": [],
   "source": [
    "df=df.dropna()"
   ]
  },
  {
   "cell_type": "code",
   "execution_count": null,
   "id": "4baa3f88",
   "metadata": {},
   "outputs": [],
   "source": [
    "df.stars.unique()"
   ]
  },
  {
   "cell_type": "code",
   "execution_count": null,
   "id": "43b706b8",
   "metadata": {},
   "outputs": [],
   "source": []
  },
  {
   "cell_type": "code",
   "execution_count": null,
   "id": "73b0ba6d",
   "metadata": {},
   "outputs": [],
   "source": [
    "df.loc[:,'stars']=df['stars'].astype(int)"
   ]
  },
  {
   "cell_type": "code",
   "execution_count": null,
   "id": "228b154c",
   "metadata": {},
   "outputs": [],
   "source": [
    "df.stars.value_counts()"
   ]
  },
  {
   "cell_type": "code",
   "execution_count": null,
   "id": "ae435f36",
   "metadata": {},
   "outputs": [],
   "source": [
    "df.isnull().value_counts()"
   ]
  },
  {
   "cell_type": "code",
   "execution_count": null,
   "id": "7fb5c7e6",
   "metadata": {},
   "outputs": [],
   "source": [
    "df.shape"
   ]
  },
  {
   "cell_type": "code",
   "execution_count": null,
   "id": "1e624c6e",
   "metadata": {},
   "outputs": [],
   "source": [
    "df.reset_index(drop=True)"
   ]
  },
  {
   "cell_type": "code",
   "execution_count": null,
   "id": "cdb99857",
   "metadata": {},
   "outputs": [],
   "source": [
    "df.to_csv(cwd+'/cleaned-BA-reviews.csv')"
   ]
  },
  {
   "cell_type": "code",
   "execution_count": null,
   "id": "2e795be8",
   "metadata": {},
   "outputs": [],
   "source": [
    "pip install wordcloud"
   ]
  },
  {
   "cell_type": "code",
   "execution_count": null,
   "id": "7a847068",
   "metadata": {},
   "outputs": [],
   "source": [
    "import datetime as dt\n",
    "from wordcloud import WordCloud,STOPWORDS"
   ]
  },
  {
   "cell_type": "code",
   "execution_count": null,
   "id": "0f106a81",
   "metadata": {},
   "outputs": [],
   "source": [
    "df=pd.read_csv(cwd+'/cleaned-BA-reviews.csv')"
   ]
  },
  {
   "cell_type": "code",
   "execution_count": null,
   "id": "ebe58ff3",
   "metadata": {},
   "outputs": [],
   "source": [
    "df=df.reset_index(drop=True)"
   ]
  },
  {
   "cell_type": "markdown",
   "id": "48c71d7a",
   "metadata": {},
   "source": [
    "AVERAGE RATING for BA "
   ]
  },
  {
   "cell_type": "code",
   "execution_count": null,
   "id": "949ce32f",
   "metadata": {},
   "outputs": [],
   "source": [
    "df.stars.mean()"
   ]
  },
  {
   "cell_type": "markdown",
   "id": "44a4be43",
   "metadata": {},
   "source": [
    "What is the total counts for each ratings?"
   ]
  },
  {
   "cell_type": "code",
   "execution_count": null,
   "id": "efcda426",
   "metadata": {},
   "outputs": [],
   "source": [
    "df.stars.value_counts().plot(kind='bar')\n",
    "plt.xlabel(\"Ratings\")\n",
    "plt.ylabel(\"total no of reviews\")\n",
    "plt.suptitle(\"total count for each rating\")"
   ]
  },
  {
   "cell_type": "code",
   "execution_count": null,
   "id": "77751b48",
   "metadata": {},
   "outputs": [],
   "source": [
    "df_ratings=pd.DataFrame(df.stars.value_counts())\n",
    "df_ratings=df_ratings.reset_index()\n",
    "pct_values = (df_ratings.stars.values/ df_ratings.stars.values.sum() *100).tolist()\n",
    "pct_values = [round(x,2) for x in pct_values]\n",
    "df_ratings['pct_values'] = pct_values"
   ]
  },
  {
   "cell_type": "code",
   "execution_count": null,
   "id": "cfc60983",
   "metadata": {},
   "outputs": [],
   "source": [
    "df_ratings"
   ]
  },
  {
   "cell_type": "code",
   "execution_count": null,
   "id": "924b28dd",
   "metadata": {},
   "outputs": [],
   "source": [
    "df_ratings=df_ratings.rename(columns={'count':'total_counts'})\n",
    "df_ratings"
   ]
  },
  {
   "cell_type": "code",
   "execution_count": null,
   "id": "5956a527",
   "metadata": {},
   "outputs": [],
   "source": [
    "clrs = ['Red' if (x ==  max(df_ratings.total_counts)) else 'grey' for x in df_ratings.total_counts ]"
   ]
  },
  {
   "cell_type": "code",
   "execution_count": null,
   "id": "2cef3e8c",
   "metadata": {},
   "outputs": [],
   "source": [
    "clrs"
   ]
  },
  {
   "cell_type": "code",
   "execution_count": null,
   "id": "e4db9b03",
   "metadata": {},
   "outputs": [],
   "source": [
    "ax=sns.barplot(x=df_ratings.stars,y=df_ratings.total_counts,data=df_ratings,errwidth=0,palette=clrs)\n",
    "ax.bar_label(ax.containers[0])\n",
    "    \n",
    "ax.set_xlabel(\"Ratings\")\n",
    "ax.set_ylabel(\"Total Number of reviews with that rating\")\n",
    "ax.set_title(\"Counts for each ratings\")"
   ]
  },
  {
   "cell_type": "markdown",
   "id": "3403eafa",
   "metadata": {},
   "source": [
    "All the unique countries"
   ]
  },
  {
   "cell_type": "code",
   "execution_count": null,
   "id": "9c7b950e",
   "metadata": {},
   "outputs": [],
   "source": [
    "print(f\"{len(df.country.unique())} unique countries\")"
   ]
  },
  {
   "cell_type": "code",
   "execution_count": null,
   "id": "5d1bd3a5",
   "metadata": {},
   "outputs": [],
   "source": [
    "df_country_review = pd.DataFrame(df.country.value_counts().head()).reset_index()\n",
    "df_country_review.rename(columns={'index':'country','country':'total_reviews'}, inplace=True)"
   ]
  },
  {
   "cell_type": "code",
   "execution_count": null,
   "id": "00dfdfaf",
   "metadata": {},
   "outputs": [],
   "source": [
    "df_country_review.rename(columns={'total_reviews':'country'}, inplace=True)\n",
    "df_country_review"
   ]
  },
  {
   "cell_type": "code",
   "execution_count": null,
   "id": "6a848337",
   "metadata": {},
   "outputs": [],
   "source": [
    "df_country_review.plot(kind='bar',x='country')"
   ]
  },
  {
   "cell_type": "markdown",
   "id": "5a831b3f",
   "metadata": {},
   "source": [
    "Which country provided on average highest ratings?"
   ]
  },
  {
   "cell_type": "code",
   "execution_count": null,
   "id": "92152bd8",
   "metadata": {},
   "outputs": [],
   "source": [
    "df_country_rating = pd.DataFrame(df.groupby('country').stars.mean().sort_values(ascending=False)).reset_index()\n",
    "df_country_rating.rename(columns={'stars':'avg_rating'},inplace=True)\n",
    "df_country_rating"
   ]
  },
  {
   "cell_type": "code",
   "execution_count": null,
   "id": "0417fda4",
   "metadata": {},
   "outputs": [],
   "source": [
    "fig, ax = plt.subplots(figsize=(18,5))\n",
    "ax1 = sns.barplot(x='country', y='avg_rating', data=df_country_rating[:12])\n",
    "ax.bar_label(ax.containers[0])\n",
    "ax.set_title(\"Top 12 Countries with avg highest rating provided to British Airways\")"
   ]
  },
  {
   "cell_type": "markdown",
   "id": "6f2e994b",
   "metadata": {},
   "source": [
    "Time Series Analysis"
   ]
  },
  {
   "cell_type": "code",
   "execution_count": null,
   "id": "ec8d442e",
   "metadata": {},
   "outputs": [],
   "source": [
    "df.date=pd.to_datetime(df.date)\n",
    "df.date"
   ]
  },
  {
   "cell_type": "code",
   "execution_count": null,
   "id": "c40a7913",
   "metadata": {},
   "outputs": [],
   "source": [
    "import plotly.express as px"
   ]
  },
  {
   "cell_type": "code",
   "execution_count": null,
   "id": "a9acb694",
   "metadata": {},
   "outputs": [],
   "source": [
    "fig = px.line(df, x='date', y=\"stars\")\n",
    "fig.update_xaxes(rangeslider_visible=True)\n",
    "fig.show()"
   ]
  },
  {
   "cell_type": "code",
   "execution_count": null,
   "id": "0d6731be",
   "metadata": {},
   "outputs": [],
   "source": [
    "reviews=\" \".join(df.corpus)"
   ]
  },
  {
   "cell_type": "code",
   "execution_count": null,
   "id": "7b0f0ce9",
   "metadata": {},
   "outputs": [],
   "source": [
    "plt.figure(figsize=(20,10))\n",
    "stopwords=set(stopwords.words('english'))\n",
    "wordcloud=WordCloud(height=600,width=600,max_font_size=100,max_words=100,stopwords=stopwords).generate(reviews)\n",
    "plt.imshow(wordcloud,interpolation='bilinear')\n",
    "plt.show()"
   ]
  },
  {
   "cell_type": "markdown",
   "id": "c47a579c",
   "metadata": {},
   "source": [
    "There are many words that does not set the idea of whether the review is positive or negative. For example words like \"passenger\", \"flight\", etc. does not add conlcusive value hence we can include them in stopwords list."
   ]
  },
  {
   "cell_type": "code",
   "execution_count": null,
   "id": "5f11a313",
   "metadata": {},
   "outputs": [],
   "source": [
    "import nltk\n",
    "from nltk.corpus import stopwords\n",
    "reviews = \" \".join(df.corpus)\n",
    "plt.figure(figsize=(20,10))\n",
    "\n",
    "stopwords = set(stopwords.words('english'))\n",
    "stopwords.update([\"ba\",\"flight\", \"british\",\"airway\", \"airline\",\"plane\", \"told\",\"also\",\"passenger\" \\\n",
    "                 \"london\", \"heathrow\", \"aircraft\", \"could\",\"even\", \"would\"])\n",
    "# Create and generate a word cloud image:\n",
    "wordcloud = WordCloud(height=500,width=500,max_font_size=100, max_words=300, stopwords=stopwords).generate(reviews)\n",
    "\n",
    "# Display the generated image:\n",
    "plt.imshow(wordcloud, interpolation='bilinear')\n",
    "plt.axis(\"off\")\n",
    "plt.show()"
   ]
  },
  {
   "cell_type": "markdown",
   "id": "fbe4d7fd",
   "metadata": {},
   "source": [
    "# WORD FREQUENCY"
   ]
  },
  {
   "cell_type": "code",
   "execution_count": null,
   "id": "c4951eac",
   "metadata": {},
   "outputs": [],
   "source": [
    "from nltk import ngrams\n",
    "from nltk.probability import FreqDist\n",
    "\n",
    "from sklearn.feature_extraction import text\n",
    "from sklearn.feature_extraction.text import TfidfVectorizer"
   ]
  },
  {
   "cell_type": "code",
   "execution_count": null,
   "id": "c6e114f5",
   "metadata": {},
   "outputs": [],
   "source": [
    "words=reviews.split(\" \")\n",
    "stopwords = text.ENGLISH_STOP_WORDS.union(['flight', 'ba', \"passenger\",\"u\", \"london\",\"airway\",\"british\",\"airline\",\\\n",
    "                                           \"heathrow\",\"plane\",\"lhr\",\"review\"])\n",
    "new_words = [word for word in words if word not in stopwords]\n"
   ]
  },
  {
   "cell_type": "code",
   "execution_count": null,
   "id": "e9e40628",
   "metadata": {},
   "outputs": [],
   "source": [
    "nlp_words=FreqDist(new_words).most_common(20)\n",
    "all_fdist=pd.Series(dict(nlp_words))\n",
    "all_fdist"
   ]
  },
  {
   "cell_type": "code",
   "execution_count": null,
   "id": "ec112cb6",
   "metadata": {},
   "outputs": [],
   "source": [
    "## Setting figure, ax into variables\n",
    "fig, ax = plt.subplots(figsize=(15,8))\n",
    "\n",
    "## Seaborn plotting using Pandas attributes + xtick rotation for ease of viewing\n",
    "all_plot = sns.barplot(x=all_fdist.index, y=all_fdist.values, ax=ax)\n",
    "all_plot.bar_label(all_plot.containers[0])\n",
    "plt.xticks(rotation=30)"
   ]
  },
  {
   "cell_type": "markdown",
   "id": "d695de5a",
   "metadata": {},
   "source": [
    "This gives us a glimpse of what customers are really talking about here. We see that Seat is most talked about the airline followed by \"Service\" and \"food\" which are all very important to customers in terms of service. However, we still do not know is how they are expressing about each of this service. To bring some significane to these terms we will use ngram plots to see if they are bad or good in experience."
   ]
  },
  {
   "cell_type": "markdown",
   "id": "76e3c537",
   "metadata": {},
   "source": [
    "Word frequency with N-gram"
   ]
  },
  {
   "cell_type": "code",
   "execution_count": null,
   "id": "d93586b5",
   "metadata": {},
   "outputs": [],
   "source": [
    "import nltk.collocations as collocations\n",
    "from nltk import FreqDist,bigrams"
   ]
  },
  {
   "cell_type": "code",
   "execution_count": null,
   "id": "bb44d75f",
   "metadata": {},
   "outputs": [],
   "source": [
    "reviews=\" \".join(df.corpus)"
   ]
  },
  {
   "cell_type": "code",
   "execution_count": null,
   "id": "a4ce4330",
   "metadata": {},
   "outputs": [],
   "source": [
    "words=reviews.split(\" \")"
   ]
  },
  {
   "cell_type": "code",
   "execution_count": null,
   "id": "43773d87",
   "metadata": {},
   "outputs": [],
   "source": [
    "new_words=[word for word in words if word not in stopwords]\n",
    "\n",
    "def get_freq_dist(new_words,number_of_ngrams ):\n",
    "    from nltk import ngrams\n",
    "    \n",
    "    ## Generate bigrams\n",
    "    ngrams = ngrams(new_words, number_of_ngrams)\n",
    "\n",
    "    ## Creating FreqDist\n",
    "    ngram_fd = FreqDist(ngrams).most_common(40)\n",
    "\n",
    "    ## Sort values by highest frequency\n",
    "    ngram_sorted = {k:v for k,v in sorted(ngram_fd, key=lambda item:item[1])}\n",
    "\n",
    "    ## Join bigram tokens with '_' + maintain sorting\n",
    "    ngram_joined = {'_'.join(k):v for k,v in sorted(ngram_fd, key=lambda item:item[1])}\n",
    "\n",
    "    ## Convert to Pandas series for easy plotting\n",
    "    ngram_freqdist = pd.Series(ngram_joined)\n",
    "    plt.figure(figsize=(10,10))\n",
    "    ax = ngram_freqdist.plot(kind=\"barh\")\n",
    "    \n",
    "    return ax\n",
    "\n",
    "\n",
    "get_freq_dist(new_words,4)"
   ]
  },
  {
   "cell_type": "markdown",
   "id": "7effda1a",
   "metadata": {},
   "source": [
    "We can see that there are very common positive terms regarding cabin crew. For example, cabin_crew_friendly_helpful, cabin_crew_friendly_attentive, cabin_crew_friendly_efficient, etc. So certainly customers are providing good reviews about cabin crew staff of British Airways.\n",
    "\n",
    "However, there is one another approach that we can try to find the word frequencies which will give us better idea. We will group the reviews based on ratings. Say, we assume ratigs 1-3 are bad reviews, 4-6 are average/good experience and 7-10 indicates a great experience."
   ]
  },
  {
   "cell_type": "code",
   "execution_count": null,
   "id": "c409dc51",
   "metadata": {},
   "outputs": [],
   "source": [
    "ratings_1_3=df[df.stars.isin([1,2,3])]\n",
    "ratings_4_6=df[df.stars.isin([4,5,6])]\n",
    "ratings_7_10=df[df.stars.isin([7,8,9,10])]\n",
    "\n",
    "reviews_1_3 = \" \".join(ratings_1_3.corpus)\n",
    "reviews_4_6 = \" \".join(ratings_4_6.corpus)\n",
    "reviews_7_10 = \" \".join(ratings_7_10.corpus)\n"
   ]
  },
  {
   "cell_type": "code",
   "execution_count": null,
   "id": "c4ac02fd",
   "metadata": {},
   "outputs": [],
   "source": [
    "#split the text of all reviews into a list of words\n",
    "words_1_3 = reviews_1_3.split(\" \")\n",
    "words_4_6 = reviews_4_6.split(\" \")\n",
    "words_7_10 = reviews_7_10.split(\" \")\n"
   ]
  },
  {
   "cell_type": "code",
   "execution_count": null,
   "id": "a6f49fb7",
   "metadata": {},
   "outputs": [],
   "source": [
    "new_words_7_10 = [word for word in words_7_10 if word not in stopwords]\n",
    "\n",
    "get_freq_dist(new_words_7_10,4)"
   ]
  },
  {
   "cell_type": "code",
   "execution_count": null,
   "id": "8c5291c0",
   "metadata": {},
   "outputs": [],
   "source": [
    "new_words = [word for word in words_4_6 if word not in stopwords]\n",
    "\n",
    "get_freq_dist(new_words,4)"
   ]
  },
  {
   "cell_type": "code",
   "execution_count": null,
   "id": "df9d989c",
   "metadata": {},
   "outputs": [],
   "source": [
    "new_words = [word for word in words_1_3 if word not in stopwords]\n",
    "\n",
    "get_freq_dist(new_words,4)"
   ]
  },
  {
   "cell_type": "code",
   "execution_count": null,
   "id": "fefc8b8e",
   "metadata": {},
   "outputs": [],
   "source": [
    "pip install textblob"
   ]
  },
  {
   "cell_type": "markdown",
   "id": "5c24df1e",
   "metadata": {},
   "source": [
    "Now we will use textblob library to define if the text is negative or positive and to what extent"
   ]
  },
  {
   "cell_type": "code",
   "execution_count": null,
   "id": "efd09391",
   "metadata": {},
   "outputs": [],
   "source": [
    "%%capture\n",
    "from textblob import TextBlob\n",
    "from textblob.sentiments import NaiveBayesAnalyzer\n",
    "\n",
    "#set a column Polarity with all 0 values initially\n",
    "df['polarity']=0\n",
    "for i in range(len(df.corpus)):\n",
    "    sent= TextBlob(df.corpus[i])\n",
    "    polarity  = sent.sentiment.polarity\n",
    "    subjectivity  = sent.sentiment.subjectivity\n",
    "    df['polarity'][i] = polarity"
   ]
  },
  {
   "cell_type": "code",
   "execution_count": null,
   "id": "e327c649",
   "metadata": {},
   "outputs": [],
   "source": [
    "# let's see how many texts are with positive comments\n",
    "\n",
    "print(f\"{df[(df['polarity'] >-0.2) & (df['polarity'] <0.2)].shape[0]} number of reviews between -0.2 and 0.2 polarity score\")\n",
    "\n",
    "print(f\"{df[(df['polarity'] >-0.1) & (df['polarity'] <0.1)].shape[0]} number of reviews between -0.1 and 0.1 polarity score\")"
   ]
  },
  {
   "cell_type": "code",
   "execution_count": null,
   "id": "142098f4",
   "metadata": {},
   "outputs": [],
   "source": []
  }
 ],
 "metadata": {
  "kernelspec": {
   "display_name": "Python 3 (ipykernel)",
   "language": "python",
   "name": "python3"
  },
  "language_info": {
   "codemirror_mode": {
    "name": "ipython",
    "version": 3
   },
   "file_extension": ".py",
   "mimetype": "text/x-python",
   "name": "python",
   "nbconvert_exporter": "python",
   "pygments_lexer": "ipython3",
   "version": "3.11.5"
  }
 },
 "nbformat": 4,
 "nbformat_minor": 5
}
